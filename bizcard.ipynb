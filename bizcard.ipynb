{
 "cells": [
  {
   "cell_type": "markdown",
   "metadata": {
    "id": "VzC6GH9Bj9jQ"
   },
   "source": [
    "# **BizCardX: Extracting Business Card Data with OCR**"
   ]
  },
  {
   "cell_type": "markdown",
   "metadata": {
    "id": "1EHHqAHukPQ7"
   },
   "source": [
    "***INSTALL THE REQUIRED PACKAGES AND IMPORT REQUIRED LIBRARIES***"
   ]
  },
  {
   "cell_type": "code",
   "execution_count": 1,
   "metadata": {
    "id": "FpKAen74rPbr"
   },
   "outputs": [
    {
     "name": "stdout",
     "output_type": "stream",
     "text": [
      "Defaulting to user installation because normal site-packages is not writeable\n",
      "Requirement already satisfied: opencv-python in c:\\users\\dell\\appdata\\roaming\\python\\python39\\site-packages (4.8.0.74)\n",
      "Requirement already satisfied: numpy>=1.17.3 in c:\\programdata\\anaconda3\\lib\\site-packages (from opencv-python) (1.21.5)\n"
     ]
    }
   ],
   "source": [
    "!pip install opencv-python"
   ]
  },
  {
   "cell_type": "code",
   "execution_count": 2,
   "metadata": {},
   "outputs": [
    {
     "name": "stdout",
     "output_type": "stream",
     "text": [
      "Defaulting to user installation because normal site-packages is not writeable\n",
      "Requirement already satisfied: pytesseract in c:\\users\\dell\\appdata\\roaming\\python\\python39\\site-packages (0.3.10)\n",
      "Requirement already satisfied: packaging>=21.3 in c:\\programdata\\anaconda3\\lib\\site-packages (from pytesseract) (21.3)\n",
      "Requirement already satisfied: Pillow>=8.0.0 in c:\\programdata\\anaconda3\\lib\\site-packages (from pytesseract) (9.2.0)\n",
      "Requirement already satisfied: pyparsing!=3.0.5,>=2.0.2 in c:\\programdata\\anaconda3\\lib\\site-packages (from packaging>=21.3->pytesseract) (3.0.9)\n"
     ]
    }
   ],
   "source": [
    "!pip install pytesseract"
   ]
  },
  {
   "cell_type": "code",
   "execution_count": 3,
   "metadata": {},
   "outputs": [
    {
     "name": "stdout",
     "output_type": "stream",
     "text": [
      "Defaulting to user installation because normal site-packages is not writeable\n",
      "Requirement already satisfied: easyocr in c:\\users\\dell\\appdata\\roaming\\python\\python39\\site-packages (1.7.0)\n",
      "Requirement already satisfied: torch in c:\\users\\dell\\appdata\\roaming\\python\\python39\\site-packages (from easyocr) (2.0.1)\n",
      "Requirement already satisfied: pyclipper in c:\\users\\dell\\appdata\\roaming\\python\\python39\\site-packages (from easyocr) (1.3.0.post4)\n",
      "Requirement already satisfied: opencv-python-headless in c:\\users\\dell\\appdata\\roaming\\python\\python39\\site-packages (from easyocr) (4.8.0.74)\n",
      "Requirement already satisfied: torchvision>=0.5 in c:\\users\\dell\\appdata\\roaming\\python\\python39\\site-packages (from easyocr) (0.15.2)\n",
      "Requirement already satisfied: scikit-image in c:\\programdata\\anaconda3\\lib\\site-packages (from easyocr) (0.19.2)\n",
      "Requirement already satisfied: PyYAML in c:\\programdata\\anaconda3\\lib\\site-packages (from easyocr) (6.0)\n",
      "Requirement already satisfied: numpy in c:\\programdata\\anaconda3\\lib\\site-packages (from easyocr) (1.21.5)\n",
      "Requirement already satisfied: Shapely in c:\\users\\dell\\appdata\\roaming\\python\\python39\\site-packages (from easyocr) (2.0.1)\n",
      "Requirement already satisfied: python-bidi in c:\\users\\dell\\appdata\\roaming\\python\\python39\\site-packages (from easyocr) (0.4.2)\n",
      "Requirement already satisfied: Pillow in c:\\programdata\\anaconda3\\lib\\site-packages (from easyocr) (9.2.0)\n",
      "Requirement already satisfied: ninja in c:\\users\\dell\\appdata\\roaming\\python\\python39\\site-packages (from easyocr) (1.11.1)\n",
      "Requirement already satisfied: scipy in c:\\programdata\\anaconda3\\lib\\site-packages (from easyocr) (1.9.1)\n",
      "Requirement already satisfied: requests in c:\\programdata\\anaconda3\\lib\\site-packages (from torchvision>=0.5->easyocr) (2.28.1)\n",
      "Requirement already satisfied: sympy in c:\\programdata\\anaconda3\\lib\\site-packages (from torch->easyocr) (1.10.1)\n",
      "Requirement already satisfied: jinja2 in c:\\programdata\\anaconda3\\lib\\site-packages (from torch->easyocr) (2.11.3)\n",
      "Requirement already satisfied: typing-extensions in c:\\programdata\\anaconda3\\lib\\site-packages (from torch->easyocr) (4.3.0)\n",
      "Requirement already satisfied: filelock in c:\\programdata\\anaconda3\\lib\\site-packages (from torch->easyocr) (3.6.0)\n",
      "Requirement already satisfied: networkx in c:\\programdata\\anaconda3\\lib\\site-packages (from torch->easyocr) (2.8.4)\n",
      "Requirement already satisfied: six in c:\\programdata\\anaconda3\\lib\\site-packages (from python-bidi->easyocr) (1.16.0)\n",
      "Requirement already satisfied: tifffile>=2019.7.26 in c:\\programdata\\anaconda3\\lib\\site-packages (from scikit-image->easyocr) (2021.7.2)\n",
      "Requirement already satisfied: imageio>=2.4.1 in c:\\programdata\\anaconda3\\lib\\site-packages (from scikit-image->easyocr) (2.19.3)\n",
      "Requirement already satisfied: packaging>=20.0 in c:\\programdata\\anaconda3\\lib\\site-packages (from scikit-image->easyocr) (21.3)\n",
      "Requirement already satisfied: PyWavelets>=1.1.1 in c:\\programdata\\anaconda3\\lib\\site-packages (from scikit-image->easyocr) (1.3.0)\n",
      "Requirement already satisfied: pyparsing!=3.0.5,>=2.0.2 in c:\\programdata\\anaconda3\\lib\\site-packages (from packaging>=20.0->scikit-image->easyocr) (3.0.9)\n",
      "Requirement already satisfied: MarkupSafe>=0.23 in c:\\programdata\\anaconda3\\lib\\site-packages (from jinja2->torch->easyocr) (2.0.1)\n",
      "Requirement already satisfied: certifi>=2017.4.17 in c:\\programdata\\anaconda3\\lib\\site-packages (from requests->torchvision>=0.5->easyocr) (2022.9.14)\n",
      "Requirement already satisfied: charset-normalizer<3,>=2 in c:\\programdata\\anaconda3\\lib\\site-packages (from requests->torchvision>=0.5->easyocr) (2.0.4)\n",
      "Requirement already satisfied: idna<4,>=2.5 in c:\\programdata\\anaconda3\\lib\\site-packages (from requests->torchvision>=0.5->easyocr) (3.3)\n",
      "Requirement already satisfied: urllib3<1.27,>=1.21.1 in c:\\programdata\\anaconda3\\lib\\site-packages (from requests->torchvision>=0.5->easyocr) (1.26.11)\n",
      "Requirement already satisfied: mpmath>=0.19 in c:\\programdata\\anaconda3\\lib\\site-packages (from sympy->torch->easyocr) (1.2.1)\n"
     ]
    }
   ],
   "source": [
    "!pip install easyocr"
   ]
  },
  {
   "cell_type": "code",
   "execution_count": 4,
   "metadata": {},
   "outputs": [
    {
     "name": "stdout",
     "output_type": "stream",
     "text": [
      "Defaulting to user installation because normal site-packages is not writeable\n",
      "Requirement already satisfied: streamlit in c:\\users\\dell\\appdata\\roaming\\python\\python39\\site-packages (1.25.0)\n",
      "Requirement already satisfied: typing-extensions<5,>=4.1.0 in c:\\programdata\\anaconda3\\lib\\site-packages (from streamlit) (4.3.0)\n",
      "Requirement already satisfied: tenacity<9,>=8.1.0 in c:\\users\\dell\\appdata\\roaming\\python\\python39\\site-packages (from streamlit) (8.2.2)\n",
      "Requirement already satisfied: rich<14,>=10.14.0 in c:\\users\\dell\\appdata\\roaming\\python\\python39\\site-packages (from streamlit) (13.4.2)\n",
      "Requirement already satisfied: tzlocal<5,>=1.1 in c:\\users\\dell\\appdata\\roaming\\python\\python39\\site-packages (from streamlit) (4.3.1)\n",
      "Requirement already satisfied: pydeck<1,>=0.8 in c:\\users\\dell\\appdata\\roaming\\python\\python39\\site-packages (from streamlit) (0.8.0)\n",
      "Requirement already satisfied: python-dateutil<3,>=2.7.3 in c:\\programdata\\anaconda3\\lib\\site-packages (from streamlit) (2.8.2)\n",
      "Requirement already satisfied: pyarrow>=6.0 in c:\\users\\dell\\appdata\\roaming\\python\\python39\\site-packages (from streamlit) (12.0.1)\n",
      "Requirement already satisfied: blinker<2,>=1.0.0 in c:\\users\\dell\\appdata\\roaming\\python\\python39\\site-packages (from streamlit) (1.6.2)\n",
      "Requirement already satisfied: tornado<7,>=6.0.3 in c:\\programdata\\anaconda3\\lib\\site-packages (from streamlit) (6.1)\n",
      "Requirement already satisfied: numpy<2,>=1.19.3 in c:\\programdata\\anaconda3\\lib\\site-packages (from streamlit) (1.21.5)\n",
      "Requirement already satisfied: click<9,>=7.0 in c:\\programdata\\anaconda3\\lib\\site-packages (from streamlit) (8.0.4)\n",
      "Requirement already satisfied: pillow<10,>=7.1.0 in c:\\programdata\\anaconda3\\lib\\site-packages (from streamlit) (9.2.0)\n",
      "Requirement already satisfied: watchdog>=2.1.5 in c:\\programdata\\anaconda3\\lib\\site-packages (from streamlit) (2.1.6)\n",
      "Requirement already satisfied: importlib-metadata<7,>=1.4 in c:\\programdata\\anaconda3\\lib\\site-packages (from streamlit) (4.11.3)\n",
      "Requirement already satisfied: requests<3,>=2.18 in c:\\programdata\\anaconda3\\lib\\site-packages (from streamlit) (2.28.1)\n",
      "Requirement already satisfied: protobuf<5,>=3.20 in c:\\users\\dell\\appdata\\roaming\\python\\python39\\site-packages (from streamlit) (4.23.4)\n",
      "Requirement already satisfied: cachetools<6,>=4.0 in c:\\users\\dell\\appdata\\roaming\\python\\python39\\site-packages (from streamlit) (5.3.1)\n",
      "Requirement already satisfied: pandas<3,>=1.3.0 in c:\\programdata\\anaconda3\\lib\\site-packages (from streamlit) (1.4.4)\n",
      "Requirement already satisfied: packaging<24,>=16.8 in c:\\programdata\\anaconda3\\lib\\site-packages (from streamlit) (21.3)\n",
      "Requirement already satisfied: validators<1,>=0.2 in c:\\users\\dell\\appdata\\roaming\\python\\python39\\site-packages (from streamlit) (0.20.0)\n",
      "Requirement already satisfied: toml<2,>=0.10.1 in c:\\programdata\\anaconda3\\lib\\site-packages (from streamlit) (0.10.2)\n",
      "Requirement already satisfied: pympler<2,>=0.9 in c:\\users\\dell\\appdata\\roaming\\python\\python39\\site-packages (from streamlit) (1.0.1)\n",
      "Requirement already satisfied: altair<6,>=4.0 in c:\\users\\dell\\appdata\\roaming\\python\\python39\\site-packages (from streamlit) (5.0.1)\n",
      "Requirement already satisfied: gitpython!=3.1.19,<4,>=3.0.7 in c:\\users\\dell\\appdata\\roaming\\python\\python39\\site-packages (from streamlit) (3.1.32)\n",
      "Requirement already satisfied: toolz in c:\\programdata\\anaconda3\\lib\\site-packages (from altair<6,>=4.0->streamlit) (0.11.2)\n",
      "Requirement already satisfied: jsonschema>=3.0 in c:\\programdata\\anaconda3\\lib\\site-packages (from altair<6,>=4.0->streamlit) (4.16.0)\n",
      "Requirement already satisfied: jinja2 in c:\\programdata\\anaconda3\\lib\\site-packages (from altair<6,>=4.0->streamlit) (2.11.3)\n",
      "Requirement already satisfied: colorama in c:\\programdata\\anaconda3\\lib\\site-packages (from click<9,>=7.0->streamlit) (0.4.5)\n",
      "Requirement already satisfied: gitdb<5,>=4.0.1 in c:\\users\\dell\\appdata\\roaming\\python\\python39\\site-packages (from gitpython!=3.1.19,<4,>=3.0.7->streamlit) (4.0.10)\n",
      "Requirement already satisfied: zipp>=0.5 in c:\\programdata\\anaconda3\\lib\\site-packages (from importlib-metadata<7,>=1.4->streamlit) (3.8.0)\n",
      "Requirement already satisfied: pyparsing!=3.0.5,>=2.0.2 in c:\\programdata\\anaconda3\\lib\\site-packages (from packaging<24,>=16.8->streamlit) (3.0.9)\n",
      "Requirement already satisfied: pytz>=2020.1 in c:\\programdata\\anaconda3\\lib\\site-packages (from pandas<3,>=1.3.0->streamlit) (2022.1)\n",
      "Requirement already satisfied: six>=1.5 in c:\\programdata\\anaconda3\\lib\\site-packages (from python-dateutil<3,>=2.7.3->streamlit) (1.16.0)\n",
      "Requirement already satisfied: urllib3<1.27,>=1.21.1 in c:\\programdata\\anaconda3\\lib\\site-packages (from requests<3,>=2.18->streamlit) (1.26.11)\n",
      "Requirement already satisfied: certifi>=2017.4.17 in c:\\programdata\\anaconda3\\lib\\site-packages (from requests<3,>=2.18->streamlit) (2022.9.14)\n",
      "Requirement already satisfied: charset-normalizer<3,>=2 in c:\\programdata\\anaconda3\\lib\\site-packages (from requests<3,>=2.18->streamlit) (2.0.4)\n",
      "Requirement already satisfied: idna<4,>=2.5 in c:\\programdata\\anaconda3\\lib\\site-packages (from requests<3,>=2.18->streamlit) (3.3)\n",
      "Requirement already satisfied: pygments<3.0.0,>=2.13.0 in c:\\users\\dell\\appdata\\roaming\\python\\python39\\site-packages (from rich<14,>=10.14.0->streamlit) (2.15.1)\n",
      "Requirement already satisfied: markdown-it-py>=2.2.0 in c:\\users\\dell\\appdata\\roaming\\python\\python39\\site-packages (from rich<14,>=10.14.0->streamlit) (3.0.0)\n",
      "Requirement already satisfied: pytz-deprecation-shim in c:\\users\\dell\\appdata\\roaming\\python\\python39\\site-packages (from tzlocal<5,>=1.1->streamlit) (0.1.0.post0)\n",
      "Requirement already satisfied: tzdata in c:\\users\\dell\\appdata\\roaming\\python\\python39\\site-packages (from tzlocal<5,>=1.1->streamlit) (2023.3)\n",
      "Requirement already satisfied: decorator>=3.4.0 in c:\\programdata\\anaconda3\\lib\\site-packages (from validators<1,>=0.2->streamlit) (5.1.1)\n",
      "Requirement already satisfied: smmap<6,>=3.0.1 in c:\\users\\dell\\appdata\\roaming\\python\\python39\\site-packages (from gitdb<5,>=4.0.1->gitpython!=3.1.19,<4,>=3.0.7->streamlit) (5.0.0)\n",
      "Requirement already satisfied: MarkupSafe>=0.23 in c:\\programdata\\anaconda3\\lib\\site-packages (from jinja2->altair<6,>=4.0->streamlit) (2.0.1)\n",
      "Requirement already satisfied: pyrsistent!=0.17.0,!=0.17.1,!=0.17.2,>=0.14.0 in c:\\programdata\\anaconda3\\lib\\site-packages (from jsonschema>=3.0->altair<6,>=4.0->streamlit) (0.18.0)\n",
      "Requirement already satisfied: attrs>=17.4.0 in c:\\programdata\\anaconda3\\lib\\site-packages (from jsonschema>=3.0->altair<6,>=4.0->streamlit) (21.4.0)\n",
      "Requirement already satisfied: mdurl~=0.1 in c:\\users\\dell\\appdata\\roaming\\python\\python39\\site-packages (from markdown-it-py>=2.2.0->rich<14,>=10.14.0->streamlit) (0.1.2)\n"
     ]
    }
   ],
   "source": [
    "!pip install streamlit"
   ]
  },
  {
   "cell_type": "code",
   "execution_count": 5,
   "metadata": {
    "id": "g9dELv_I5Rql"
   },
   "outputs": [
    {
     "name": "stdout",
     "output_type": "stream",
     "text": [
      "Overwriting main.py\n"
     ]
    }
   ],
   "source": [
    "%%writefile main.py\n",
    "\n",
    "import streamlit as st\n",
    "import easyocr\n",
    "import sqlite3\n",
    "import cv2\n",
    "import numpy as np \n",
    "import pandas as pd\n",
    "\n",
    "\n",
    "# Connect to sqlite3 database\n",
    "conn = sqlite3.connect('business_card.db')\n",
    "c = conn.cursor()\n",
    "\n",
    "\n",
    "# Create a table to store the business card information\n",
    "c.execute('''CREATE TABLE IF NOT EXISTS Cards\n",
    "              (id INT AUTO_INCREMENT PRIMARY KEY,\n",
    "              name TEXT,\n",
    "              position TEXT,\n",
    "              address TEXT,\n",
    "              pincode VARCHAR(25),\n",
    "              phone VARCHAR(25),\n",
    "              email TEXT,\n",
    "              website TEXT,\n",
    "              company TEXT\n",
    "              )''')\n",
    "\n",
    "# Using easyOCR for reading data\n",
    "reader = easyocr.Reader(['en'])\n",
    "\n",
    "\n",
    "# Set the title and page icon\n",
    "st.set_page_config(page_title=\"BIZCARD-X\", page_icon=\":credit_card:\")\n",
    "\n",
    "\n",
    "# Title \n",
    "st.title(\":red[OCR Tool For Extracting Card Data:credit_card:]\")\n",
    "\n",
    "\n",
    "# Create a file uploader\n",
    "file_upload = st.file_uploader(\":orange[UPLOAD CARD IMAGE>>>:credit_card:]\", type=[\"jpg\", \"jpeg\", \"png\"])\n",
    "\n",
    "\n",
    "# Create a sidebar menu with options to Add, Show, Update business card information\n",
    "st.sidebar.title(\":red[BIZCARD-X:star:]\")\n",
    "st.sidebar.image(\"https://miro.medium.com/v2/resize:fit:1400/0*V7NS3dvYQLVi6DFL.gif\", width=300)\n",
    "\n",
    "\n",
    "m = ['Insert Data', 'Show Data', 'Edit Card Info']\n",
    "choose = st.sidebar.selectbox(\"Select An Option\", m)\n",
    "\n",
    "\n",
    "if choose == 'Insert Data':\n",
    "    if file_upload is not None:\n",
    "        \n",
    "        # Read the image using OpenCV\n",
    "        image = cv2.imdecode(np.fromstring(file_upload.read(), np.uint8), 1)\n",
    "        \n",
    "        # Display the uploaded image\n",
    "        st.image(image, caption='Uploaded Successfully', use_column_width=True)\n",
    "        \n",
    "        # Button to extract information from the image\n",
    "        if st.button('Extract Data'):\n",
    "            bsc = reader.readtext(image, detail=0)\n",
    "            text = \"\\n\".join(bsc)\n",
    "            \n",
    "            # Insert the extracted information and image into the database\n",
    "            sql_data = \"INSERT INTO Cards (name, position, address, pincode, phone, email, website, company) VALUES ( ?, ?, ?, ?, ?, ?, ?, ?)\"\n",
    "            values = (bsc[0], bsc[1], bsc[2], bsc[3], bsc[4], bsc[5], bsc[6], bsc[7])\n",
    "            c.execute(sql_data, values)\n",
    "            conn.commit()\n",
    "            \n",
    "            # Display message\n",
    "            st.success(\"Data Extracted Successfully\")\n",
    "\n",
    "elif choose == 'Show Data':\n",
    "    \n",
    "    # Display the stored business card information\n",
    "    c.execute(\"SELECT * FROM Cards\")\n",
    "    result = c.fetchall()\n",
    "    df = pd.DataFrame(result, columns=['id','name', 'position', 'address', 'pincode', 'phone', 'email', 'website', 'company'])\n",
    "    st.write(df)\n",
    "\n",
    "\n",
    "elif choose == 'Edit Card Info':\n",
    "    \n",
    "    # Create a dropdown menu to select a business card to edit\n",
    "    c.execute(\"SELECT id, name FROM Cards\")\n",
    "    result = c.fetchall()\n",
    "    business_cards = {}\n",
    "    \n",
    "    for row in result:\n",
    "        business_cards[row[1]] = row[0]\n",
    "    select_card_name = st.selectbox(\"Select Card To Edit\", list(business_cards.keys()))\n",
    "    \n",
    "    # Get the current information for the selected business card\n",
    "    c.execute(\"SELECT * FROM Cards WHERE name=?\", (select_card_name,))\n",
    "    result = c.fetchone()\n",
    "\n",
    "    # Get edited information \n",
    "    name = st.text_input(\"Name\", result[1])\n",
    "    position = st.text_input(\"Position\", result[2])\n",
    "    address = st.text_input(\"Address\", result[3])\n",
    "    pincode = st.text_input(\"Pincode\", result[4])\n",
    "    phone = st.text_input(\"Phone\", result[5])\n",
    "    email = st.text_input(\"Email\", result[6])\n",
    "    website = st.text_input(\"Website\", result[7])\n",
    "    company = st.text_input(\"Company_Name\", result[8])\n",
    "\n",
    "    \n",
    "    # Create a button to update the business card\n",
    "    if st.button(\"Edit Card Data\"):\n",
    "        \n",
    "        # Update the information for the selected business card in the database\n",
    "        c.execute(\"UPDATE Cards SET name=?, position=?, address=?, pincode=?, phone=?, email=?, website=?, company=? WHERE name=?\", \n",
    "                             (name, position, address, pincode, phone, email, website, company, select_card_name))\n",
    "        conn.commit()\n",
    "        st.success(\"Card Data Updated\")\n"
   ]
  },
  {
   "cell_type": "code",
   "execution_count": 6,
   "metadata": {
    "id": "17YPg9V1MZ_J"
   },
   "outputs": [
    {
     "name": "stderr",
     "output_type": "stream",
     "text": [
      "Usage: streamlit run [OPTIONS] TARGET [ARGS]...\n",
      "Try 'streamlit run --help' for help.\n",
      "\n",
      "Error: Invalid value: File does not exist: /content/main.py\n"
     ]
    }
   ],
   "source": [
    "!streamlit run /content/main.py "
   ]
  },
  {
   "cell_type": "code",
   "execution_count": null,
   "metadata": {},
   "outputs": [],
   "source": []
  }
 ],
 "metadata": {
  "colab": {
   "provenance": []
  },
  "kernelspec": {
   "display_name": "Python 3 (ipykernel)",
   "language": "python",
   "name": "python3"
  },
  "language_info": {
   "codemirror_mode": {
    "name": "ipython",
    "version": 3
   },
   "file_extension": ".py",
   "mimetype": "text/x-python",
   "name": "python",
   "nbconvert_exporter": "python",
   "pygments_lexer": "ipython3",
   "version": "3.9.13"
  }
 },
 "nbformat": 4,
 "nbformat_minor": 1
}
